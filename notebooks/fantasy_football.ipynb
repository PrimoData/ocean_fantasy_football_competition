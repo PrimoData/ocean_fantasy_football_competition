{
 "cells": [
  {
   "cell_type": "code",
   "execution_count": null,
   "metadata": {},
   "outputs": [],
   "source": [
    "import pandas as pd\n",
    "\n",
    "# Set max columns to display\n",
    "pd.set_option('display.max_columns', 500)"
   ]
  },
  {
   "cell_type": "markdown",
   "metadata": {},
   "source": [
    "## 1. Data Analysis (25 points)\n",
    "- Exploratory Analysis (10 points): Derive conclusions and determine the dataset's characteristics, including missing values, outliers, and statistical summaries.\n",
    "- Visualizations (5 points): Provide insightful visualizations to understand correlations and patterns.\n",
    "- Data Quality (10 points): Identify and handle missing values, anomalies, and duplicate entries."
   ]
  },
  {
   "cell_type": "code",
   "execution_count": null,
   "metadata": {},
   "outputs": [],
   "source": [
    "# Read dataset (https://market.oceanprotocol.com/asset/did:op:6fd1ff2e2d59b89c610b2bf72f3f19b3fccb79864b019b63041a19b9010c9a5c)\n",
    "nfl_data = pd.read_csv('../data/nflpy.csv', index_col=0)\n",
    "print(nfl_data.shape)\n",
    "nfl_data.head()"
   ]
  },
  {
   "cell_type": "markdown",
   "metadata": {},
   "source": [
    "### Exploratory Analysis"
   ]
  },
  {
   "cell_type": "code",
   "execution_count": null,
   "metadata": {},
   "outputs": [],
   "source": [
    "# Missing Values Analysis: Identify columns with missing values and their impact.\n",
    "\n",
    "# Analyzing missing values in each column\n",
    "missing_values = nfl_data.isnull().sum().sort_values(ascending=False)\n",
    "\n",
    "# Percentage of missing values for each column\n",
    "missing_percentage = (nfl_data.isnull().sum() / nfl_data.shape[0] * 100).sort_values(ascending=False)\n",
    "\n",
    "# Combine the missing values count and percentage into a DataFrame\n",
    "missing_info = pd.DataFrame({'Missing Values': missing_values, 'Percentage': missing_percentage})\n",
    "\n",
    "missing_info[missing_info['Missing Values'] > 0]\n"
   ]
  },
  {
   "cell_type": "code",
   "execution_count": null,
   "metadata": {},
   "outputs": [],
   "source": [
    "# Look are records where draft_number is null\n",
    "nfl_data[nfl_data['draft_number'].isnull()].head()"
   ]
  },
  {
   "cell_type": "code",
   "execution_count": null,
   "metadata": {},
   "outputs": [],
   "source": [
    "# Look at records where player_id is 00-0019596\n",
    "nfl_data[nfl_data['player_id'] == '00-0019596']"
   ]
  },
  {
   "cell_type": "code",
   "execution_count": null,
   "metadata": {},
   "outputs": [],
   "source": [
    "nfl_data = pd.read_csv('../data/nflpy.csv', index_col=0)\n",
    "\n",
    "# Sort the DataFrame by player_id and season\n",
    "nfl_data.sort_values(['player_id', 'season'], inplace=True)\n",
    "\n",
    "# Fill missing values for the draft_number for each player_id with the max value for the player_id\n",
    "nfl_data['draft_number'] = nfl_data.groupby('player_id')['draft_number'].transform(lambda x: x.fillna(x.max()))\n",
    "\n",
    "# Fill missing values for years_exp and age for each player_id based on the value from the previous season\n",
    "nfl_data['years_exp'] = nfl_data.groupby('player_id')['years_exp'].transform(lambda x: x.fillna(method='ffill'))\n",
    "nfl_data['years_exp_filled'] = nfl_data.groupby('player_id')['years_exp'].transform(lambda x: x.diff().eq(0))\n",
    "nfl_data.loc[nfl_data['years_exp_filled'], 'years_exp'] += 1\n",
    "nfl_data['age'] = nfl_data.groupby('player_id')['age'].transform(lambda x: x.fillna(method='ffill'))\n",
    "nfl_data['age_filled'] = nfl_data.groupby('player_id')['age'].transform(lambda x: x.diff().eq(0))\n",
    "nfl_data.loc[nfl_data['age_filled'], 'age'] += 1\n",
    "nfl_data.drop(['years_exp_filled','age_filled'], axis=1, inplace=True)\n",
    "\n",
    "# Fill missing values for name and bmi for each player_id with the previous value\n",
    "nfl_data['bmi'] = nfl_data.groupby('player_id')['bmi'].transform(lambda x: x.fillna(method='ffill'))\n",
    "nfl_data['name'] = nfl_data.groupby('player_id')['name'].transform(lambda x: x.fillna(method='ffill'))\n",
    "\n",
    "# Look at player_id is 00-0019596 again\n",
    "nfl_data[nfl_data['player_id'] == '00-0019596']"
   ]
  },
  {
   "cell_type": "code",
   "execution_count": null,
   "metadata": {},
   "outputs": [],
   "source": [
    "# Drop remaining records where years_exp, age, or draft_number is missing b/c not sure what the value should be\n",
    "nfl_data.dropna(subset=['years_exp', 'age', 'draft_number'], inplace=True)\n",
    "\n",
    "# Drop records where team is missing\n",
    "nfl_data.dropna(subset=['team'], inplace=True)"
   ]
  },
  {
   "cell_type": "code",
   "execution_count": null,
   "metadata": {},
   "outputs": [],
   "source": [
    "# Re-run missing values analysis\n",
    "missing_values = nfl_data.isnull().sum().sort_values(ascending=False)\n",
    "missing_percentage = (nfl_data.isnull().sum() / nfl_data.shape[0] * 100).sort_values(ascending=False)\n",
    "missing_info = pd.DataFrame({'Missing Values': missing_values, 'Percentage': missing_percentage})\n",
    "missing_info[missing_info['Missing Values'] > 0]"
   ]
  },
  {
   "cell_type": "code",
   "execution_count": null,
   "metadata": {},
   "outputs": [],
   "source": []
  },
  {
   "cell_type": "code",
   "execution_count": null,
   "metadata": {},
   "outputs": [],
   "source": []
  },
  {
   "cell_type": "code",
   "execution_count": null,
   "metadata": {},
   "outputs": [],
   "source": [
    "nfl_data[[\"fantasy_points_ppr\"]].head()"
   ]
  },
  {
   "cell_type": "code",
   "execution_count": null,
   "metadata": {},
   "outputs": [],
   "source": [
    "# Statistical Summaries: Generate summary statistics for numerical variables.\n"
   ]
  },
  {
   "cell_type": "code",
   "execution_count": null,
   "metadata": {},
   "outputs": [],
   "source": [
    "# Outliers Analysis: Look for any obvious outliers in key metrics.\n"
   ]
  },
  {
   "cell_type": "code",
   "execution_count": null,
   "metadata": {},
   "outputs": [],
   "source": [
    "# Data Distribution: Visualize the distribution of key variables.\n"
   ]
  },
  {
   "cell_type": "code",
   "execution_count": null,
   "metadata": {},
   "outputs": [],
   "source": []
  },
  {
   "cell_type": "code",
   "execution_count": null,
   "metadata": {},
   "outputs": [],
   "source": []
  },
  {
   "cell_type": "markdown",
   "metadata": {},
   "source": [
    "## 2. Feature Engineering (25 points)\n",
    "- Feature Selection (10 points): Identify and justify the inclusion or exclusion of features for your model\n",
    "- Feature Transformation (10 points): Apply transformations and encoding to optimize model performance, and explain your process\n",
    "- Feature Creation (5 points): Create new metric(s) that can be used as an additional feature to enhance predictive accuracy."
   ]
  },
  {
   "cell_type": "code",
   "execution_count": null,
   "metadata": {},
   "outputs": [],
   "source": []
  },
  {
   "cell_type": "markdown",
   "metadata": {},
   "source": [
    "## 3. Model Build (15 points)\n",
    "- Model Selection (5 points): Justify the choice of algorithms and methodologies of why you chose your model.\n",
    "- Model Training (10 points): Detail the training process, including hyperparameter tuning and cross-validation. You may choose to simply submit screenshots of your notebook. However, those accompanied by written explanations will score higher."
   ]
  },
  {
   "cell_type": "code",
   "execution_count": null,
   "metadata": {},
   "outputs": [],
   "source": []
  },
  {
   "cell_type": "markdown",
   "metadata": {},
   "source": [
    "## 4. Model Performance (25 points)\n",
    "- Evaluation (10 points): Evaluate the model using metrics like RMSE, Mean absolute error (MAE), R-squared, or equivalent on a validation set.\n",
    "- Interpretability (10 points): Explain the model's decisions and significant features.\n",
    "- Reproducibility (5 points): Ensure that the model and preprocessing steps are reproducible."
   ]
  },
  {
   "cell_type": "code",
   "execution_count": null,
   "metadata": {},
   "outputs": [],
   "source": []
  }
 ],
 "metadata": {
  "kernelspec": {
   "display_name": "Python 3",
   "language": "python",
   "name": "python3"
  },
  "language_info": {
   "codemirror_mode": {
    "name": "ipython",
    "version": 3
   },
   "file_extension": ".py",
   "mimetype": "text/x-python",
   "name": "python",
   "nbconvert_exporter": "python",
   "pygments_lexer": "ipython3",
   "version": "3.10.8"
  },
  "orig_nbformat": 4
 },
 "nbformat": 4,
 "nbformat_minor": 2
}
